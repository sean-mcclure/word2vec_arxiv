{
 "cells": [
  {
   "cell_type": "code",
   "execution_count": 41,
   "metadata": {},
   "outputs": [],
   "source": [
    "    with open('data/words.txt', 'r') as content_file:\n",
    "        eng_words = content_file.read()\n",
    "        eng_words = eng_words.split('\\n')\n",
    "\n",
    "    with open('data/domain_1_single.txt', 'r') as content_file:\n",
    "        content = content_file.read()\n",
    "        content = content.split(' ')\n",
    "\n",
    "    fin_content = [x for x in content if x in eng_words]\n",
    "    fin_content = ' '.join(word for word in fin_content if len(word) > 3)\n",
    "    fin_content = ' '.join(fin_content)"
   ]
  },
  {
   "cell_type": "code",
   "execution_count": 42,
   "metadata": {},
   "outputs": [
    {
     "data": {
      "text/plain": [
       "'p a r t i t i o n   s u b s e t   d i r e c t e d   p a r t i a l   u n i v e r s i t y   i d a h o   d i r e c t e d   g r a p h   s u b s e t   s u p p o s e   e v e r y   v e r t e x   d e g r e e   l e a s t   i n t e g e r   d i r e c t e d   c o n j e c t u r e   i n t e g e r   d i r e c t e d   d e g r e e   c o n d i t i o n   s h a r p   g e n e r a l   d i s c u s s   f i n i t e   s i m p l e   g r a p h s   s t r i c t   d i r e c t e d   g r a p h s   t e r m i n o l o g y   n o t a t i o n   c o n c e r n i n g   g r a p h s   e x c e p t   i n d i c a t e d   g r a p h s   d i r e c t e d   s a i d   d i s j o i n t   c o m m o n   v e r t i c e s   g r a p h   r e s p e c t i v e l y   c o n j e c t u r e   v e r i f i e d   n u m b e r   c a s e s   s p e n c e r   w o r k   c o n j e c t u r e d   d e g r e e   l e a s t   e v e r y   g r a p h   c o n j e c t u r e   p r o v e d   v e r t i c e s   c l a s s i c   r e s u l t   p r o p o s e d   c o n j e c t u r e   d i s j o i n t   c y c l e s   k n o w   v e r t i c e s   s u b s e t   g r a p h   s u b s e t   p o s i t i v e   i n t e g e r   s u p p o s e   i n t e g e r   s h o w e d   c y c l e s   l e a s t   t h r e e   v e r t i c e s   c o n j e c t u r e   v e r i f i e d   r e s u l t   s u p p o r t s   p r o v e d   d i r e c t e d   g r a p h   s u p p o s e   d i s j o i n t   d i r e c t e d   c y c l e s   p r o p o s e d   f o l l o w i n g   c o n j e c t u r e   d i r e c t e d   g r a p h   s u p p o s e   d i r e c t e d   d i r e c t e d   i s o m o r p h i c   s u p p o r t   c o n j e c t u r e   p r o v e d   f o l l o w i n g   d i r e c t e d   g r a p h   m i n i m u m   d e g r e e   d i r e c t e d   w o r k   a l o n g   l i n e   p r o p o s e   f o l l o w i n g   d i r e c t e d   g r a p h   s u b s e t   e v e r y   v e r t e x   d e g r e e   d e m o n s t r a t e   d e g r e e   c o n d i t i o n   s h a r p   g e n e r a l   c o n s t r u c t   f o l l o w i n g   d i r e c t e d   p o s i t i v e   d e n o t e   c o m p l e t e   d i r e c t e d   g r a p h   d i s t i n c t   d i r e c t e d   d i s j o i n t   c o m p l e t e   d i r e c t e d   a r c s   m i n i m u m   d e g r e e   c o n t a i n   d i r e c t e d   c y c l e   o r d e r   g r e a t e r   s h o w e d   d i r e c t e d   c y c l e s   c o n t a i n s   l e a s t   t h r e e   v e r t i c e s   p a p e r   p r o v e   d i r e c t e d   g r a p h   s u b s e t   e v e r y   v e r t e x   d e g r e e   d i s j o i n t   d i r e c t e d   c o n v e n i e n c e   n e e d   s p e c i a l   t e r m i n o l o g y   n o t a t i o n   g r a p h   v e r t e x   d e n o t e   v e r t e x   r e s p e c t i v e l y   d e n o t e   d e g r e e   d e n o t e d   r e s p e c t i v e l y   s u b s e t   s e q u e n c e   v e r t i c e s   d e n o t e   c o n t a i n e d   s i m i l a r l y   a l s o   v e r t i c e s   d e g r e e   v e r t i c e s   g r a p h   s a i d   t r a c e a b l e   c o n t a i n s   p a t h   p a t h   r e s p e c t i v e l y   g r a p h   c a l l e d   c o n t a i n s   c y c l e   d i r e c t e d   c y c l e   c y c l e   v e r t e x   s u c c e s s o r   r e s p e c t i v e l y   v e r t i c e s   r e p r e s e n t   p a t h   d i r e c t i o n   a d o p t   a d j a c e n t   e i t h e r   e d g e   o t h e r w i s e   f o l l o w i n g   l e m m a s   w e l l   p a t h   f o l l o w i n g   s h o w   e a s y   f o l l o w s   s h o w   e a s y   t h u s   s h o w   e a s y   h o l d s   f o l l o w s   p a t h   s h o w   p a t h   p a t h   c y c l e   s u p p o s e   c y c l e   c y c l e   e v e n   v e r t i c e s   d i r e c t i o n   l a s t   s t a t e m e n t   h o l d   l e m m a   p a t h   t h e r e f o r e   s i m i l a r l y   l e m m a   h o l d s   l e m m a   l o n g e s t   p a t h   s t a r t i n g   e x i s t s   l o n g e s t   p a t h   s t a r t i n g   p a t h   e n d s   p a t h   m o r e o v e r   p r o o f   d i r e c t e d   g r a p h   s u p p o s e   s u p p o s e   c o n t r a d i c t i o n   c o n t a i n   d i s j o i n t   p r o o f   a r c s   u n d e r l i n i n g   g r a p h   e i t h e r   a d j a c e n t   d e n o t e   l e n g t h   c a l l e d   s i m i l a r l y   p a r t i t i o n   c h o o s e   m a x i m a l   s u b j e c t   m i n i m a l   a s s u m e   l e m m a   t r a c e a b l e   l e m m a   d i s j o i n t   o b t a i n   p a t h   p a t h   t r a c e a b l e   t r a c e a b l e   f o l l o w s   h o l d s   n o t e   l e m m a   e a s i l y   f o l l o w i n g   l e m m a   p a t h   p a t h   s u p p o s e   p a t h   c o n t a i n   i m p l i e s   l e m m a   h o l d s   t h e r e f o r e   c o n t a i n   s i m i l a r l y   a s s u m e   c o n t a i n   l e m m a   f a i l s   r e q u i r e d   i m p l i e s   t h e r e f o r e   a s s u m e   e x i s t   i n d e p e n d e n t   e d g e s   l e m m a   s i n c e   e q u a l i t y   h o l d   c o n t a i n   i n d e p e n d e n t   e d g e s   a s s u m e   m o m e n t   l e m m a   l e m m a   s h a l l   c o n t r a d i c t i o n   t h e r e f o r e   f o l l o w s   h o l d   l e m m a   f o l l o w s   s u p p o s e   a p p l y i n g   l e m m a   p l a c e   p l a c e   a p p l y i n g   l e m m a   p l a c e   o b t a i n   c o n t r a d i c t i o n   a s s u m e   l e m m a   h o l d s   l e m m a   a s s u m e   f o l l o w s   c l e a r l y   l e m m a   o b t a i n   f o l l o w i n g   t r a c e a b l e   t r a c e a b l e   c o n t r a r y   l e m m a   f a i l s   o t h e r w i s e   c y c l e   l i s t   v e r t i c e s   a l o n g   d i r e c t i o n   o p e r a t i o n   s u b s c r i p t s   t a k e n   a r c s   v e r t i c e s   o t h e r w i s e   o t h e r w i s e   s u p p o s e   o b t a i n   i m p l i e s   c o n t a i n   r e c a l l   p l a c e   c y c l e   c o n t r a d i c t i o n   i m p l i e s   c o n t r a d i c t i o n   h e n c e   b r e a k   f o l l o w i n g   f o u r   c a s e s   c a s e s   s i m i l a r   c a s e   l a t t e r   o t h e r w i s e   h o l d s   l e m m a   l e m m a   c a s e   c y c l e   c a s e   f o r m e r   h o l d s   l e m m a   c o n t r a d i c t i o n   a s s u m e   l a t t e r   h o l d s   l e m m a   f o l l o w s   c o n t r a d i c t i o n   h e n c e   l a t t e r   h o l d   n o t e   a l l o w s   c a s e   c a s e   l e m m a   f o l l o w s   o b t a i n s   n o t e d   c a s e   f o r m e r   h o l d s   l e m m a   c o n t r a d i c t i o n   l e m m a   f o l l o w s   f o l l o w s   f a i l s   f i r s t   a s s u m e   e x i s t   i n d e p e n d e n t   e d g e s   c o r o l l a r y   c o n t r a d i c t s   l e m m a   t h u s   n e x t   l e m m a   t r a c e a b l e   l e m m a   w o u l d   i m p o s s i b l e   t o g e t h e r   h e n c e   c o n t r a r y   c o r o l l a r y   t r a c e a b l e   f i r s t   a s s u m e   l e m m a   i m p l i e s   f o l l o w s   t r a c e a b l e   t r a c e a b l e   a p p l y i n g   l e m m a   p l a c e   o b t a i n   i m p o s s i b l e   l e m m a   f o l l o w s   t r a c e a b l e   t r a c e a b l e   l e m m a   l e m m a   l e m m a   a l s o   o b t a i n   n o t e   c o n t r a d i c t i o n   t h e r e f o r e   f o l l o w s   c o n t a i n   c o r o l l a r y   p l a c e   a r g u m e n t   c o n t r a d i c t i o n   a p p l y   l e m m a   e x i s t s   p a t h   l e m m a   o b t a i n   f o l l o w s   p a t h   p l a c e   p o s i t i o n   c o m p l e t e   p r o o f   a s s u m e   l e m m a   l e m m a   a p p l y i n g   l e m m a   p a t h   l e m m a   l e m m a   p l a c e   t h u s   c o r o l l a r y   c o n c l u d e   c o n t a i n   i m p l i e s   c o r o l l a r y   t r a c e a b l e   l e m m a   f o l l o w s   o b t a i n   c o n t r a d i c t i o n   c l a i m   c o n t a i n   l e m m a   y i e l d s   t h u s   f o l l o w s   c o n t r a d i c t i o n   c l a i m   t r u e   l e m m a   f o l l o w s   t r a c e a b l e   l e m m a   c o r o l l a r y   t r a c e a b l e   l e m m a   l e m m a   c o n t r a d i c t s   o b t a i n   c o n t r a d i c t i o n   p r o v e s   e m b e d d i n g   a r b i t r a r y   g r a p h s   l o n d o n   m a t h   t h e o r y   a p p l i c a t i o n s   m a x i m a l   n u m b e r   i n d e p e n d e n t   c i r c u i t s   m a t h   t h e o r e m s   a b s t r a c t   l o n d o n   m a t h   c i r c u i t s   m a t h   m a x i m a l   p a t h s   c i r c u i t s   m a t h   l i t t l e   c y c l e s   d i r e c t e d   d i s j o i n t   p l a c e m e n t   g r a p h s   t h e o r y   g r a p h   t h e o r y   p r o o f   c o n j e c t u r e   d i g r a p h s   c o n t a i n i n g   e v e r y   p o s s i b l e   p a i r   g r a p h   t h e o r y   i n d e p e n d e n t   d i r e c t e d   t r i a n g l e s   d i r e c t e d   p a r t i a l   d e g r e e   c o n d i t i o n s   c y c l e   g r a p h   t h e o r y   c o v e r i n g   s u b s e t   j o u r n a l   p a g e s   d i r e c t e d   c y c l e s   d i g r a p h s   p a r t i a l   d e g r e e s'"
      ]
     },
     "execution_count": 42,
     "metadata": {},
     "output_type": "execute_result"
    }
   ],
   "source": [
    "fin_content"
   ]
  },
  {
   "cell_type": "code",
   "execution_count": null,
   "metadata": {},
   "outputs": [],
   "source": []
  }
 ],
 "metadata": {
  "kernelspec": {
   "display_name": "Python 3",
   "language": "python",
   "name": "python3"
  },
  "language_info": {
   "codemirror_mode": {
    "name": "ipython",
    "version": 3
   },
   "file_extension": ".py",
   "mimetype": "text/x-python",
   "name": "python",
   "nbconvert_exporter": "python",
   "pygments_lexer": "ipython3",
   "version": "3.5.6"
  }
 },
 "nbformat": 4,
 "nbformat_minor": 2
}
